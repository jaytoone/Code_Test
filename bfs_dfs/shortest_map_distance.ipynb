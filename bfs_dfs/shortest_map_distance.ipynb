{
 "cells": [
  {
   "cell_type": "code",
   "execution_count": null,
   "id": "047f3b66-dc5b-4583-8559-d7852e6d8d63",
   "metadata": {},
   "outputs": [],
   "source": [
    "# https://school.programmers.co.kr/learn/courses/30/lessons/1844"
   ]
  },
  {
   "cell_type": "code",
   "execution_count": 6,
   "id": "a4f2c0f6-c756-4fe7-b65a-c0691202700d",
   "metadata": {},
   "outputs": [],
   "source": [
    "from collections import deque\n",
    "\n",
    "def solution(maps):\n",
    "    x_move = [1, 0, -1, 0]\n",
    "    y_move = [0, 1, 0, -1]\n",
    "\n",
    "    x_h, y_h = (len(maps[0]), len(maps))\n",
    "    queue = deque([(0, 0, 1)])  # return value 에는 첫칸을 포함하기 때문에 default = 1\n",
    "\n",
    "    while queue:  # while 문이 계속 돌려면, deque 가 살아있어야함\n",
    "        # --> deque 가 살아있다는 건 이동한 위치에서 다음 이동할 위치가 유효하다는 이야기\n",
    "        x, y, d = queue.popleft()\n",
    "\n",
    "        for i in range(4):  # 4개의 방향성\n",
    "            nx = x + x_move[i]\n",
    "            ny = y + y_move[i]\n",
    "\n",
    "            if nx > -1 and ny > -1 and nx < x_h and ny < y_h:  # 이동할 칸에 대한 유효성 확인\n",
    "                if maps[ny][nx] == 1 or maps[ny][nx] > d + 1:   # point 와 matrix 는 좌표사용이 반대 \n",
    "                    maps[ny][nx] = d + 1  # 이동할 칸에 return value 표시\n",
    "                    if nx == x_h - 1 and ny == y_h - 1:  # 상대편 진영 (point) 에 도달\n",
    "                        return d + 1\n",
    "\n",
    "                    queue.append((nx, ny, d + 1))\n",
    "        # print(queue)\n",
    "\n",
    "    return -1"
   ]
  },
  {
   "cell_type": "code",
   "execution_count": 7,
   "id": "c77e87d5-cc91-42c0-9d89-2b8b92cbbf29",
   "metadata": {},
   "outputs": [
    {
     "name": "stdout",
     "output_type": "stream",
     "text": [
      "deque([(0, 1, 2)])\n",
      "deque([(0, 2, 3), (0, 0, 3)])\n",
      "deque([(0, 0, 3), (0, 3, 4)])\n",
      "deque([(0, 3, 4)])\n",
      "deque([(1, 3, 5)])\n",
      "deque([(2, 3, 6)])\n",
      "deque([(2, 2, 7)])\n",
      "deque([(3, 2, 8), (2, 1, 8)])\n",
      "deque([(2, 1, 8), (4, 2, 9)])\n",
      "deque([(4, 2, 9), (2, 0, 9)])\n",
      "deque([(2, 0, 9), (4, 1, 10)])\n",
      "deque([(4, 1, 10), (3, 0, 10)])\n",
      "deque([(3, 0, 10), (4, 0, 11)])\n",
      "deque([(4, 0, 11)])\n",
      "deque([])\n"
     ]
    },
    {
     "data": {
      "text/plain": [
       "-1"
      ]
     },
     "execution_count": 7,
     "metadata": {},
     "output_type": "execute_result"
    }
   ],
   "source": [
    "t_maps = [[1,0,1,1,1],[1,0,1,0,1],[1,0,1,1,1],[1,1,1,0,1],[0,0,0,0,1]]\n",
    "t_maps = [[1,0,1,1,1],[1,0,1,0,1],[1,0,1,1,1],[1,1,1,0,0],[0,0,0,0,1]]\n",
    "\n",
    "solution(t_maps)"
   ]
  },
  {
   "cell_type": "code",
   "execution_count": null,
   "id": "17f98c19-ed04-4e84-9dd0-8be641e4ba24",
   "metadata": {},
   "outputs": [],
   "source": []
  },
  {
   "cell_type": "code",
   "execution_count": null,
   "id": "fc36c98e-1d1a-49d9-9d3d-04e045d71143",
   "metadata": {},
   "outputs": [],
   "source": []
  }
 ],
 "metadata": {
  "kernelspec": {
   "display_name": "Python 3 (ipykernel)",
   "language": "python",
   "name": "python3"
  },
  "language_info": {
   "codemirror_mode": {
    "name": "ipython",
    "version": 3
   },
   "file_extension": ".py",
   "mimetype": "text/x-python",
   "name": "python",
   "nbconvert_exporter": "python",
   "pygments_lexer": "ipython3",
   "version": "3.8.10"
  }
 },
 "nbformat": 4,
 "nbformat_minor": 5
}
