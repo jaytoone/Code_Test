{
 "cells": [
  {
   "cell_type": "code",
   "execution_count": null,
   "id": "fc9d62f2-d441-49e7-a8e5-d6a63d69ce44",
   "metadata": {},
   "outputs": [],
   "source": [
    "# https://school.programmers.co.kr/learn/courses/30/lessons/43238\n",
    "## 1. binary_search conception : https://www.acmicpc.net/blog/view/109\n",
    "## 2. codes (recursive & for loop) : https://velog.io/@kimdukbae/%EC%9D%B4%EB%B6%84-%ED%83%90%EC%83%89-%EC%9D%B4%EC%A7%84-%ED%83%90%EC%83%89-Binary-Search"
   ]
  },
  {
   "cell_type": "code",
   "execution_count": null,
   "id": "bb06aadd-67b9-4d80-bb2f-602979013e69",
   "metadata": {},
   "outputs": [],
   "source": [
    "def solution(n, times):  # 이게 가장 직관적.\n",
    "\n",
    "    low = 0\n",
    "    high = max(times) * n\n",
    "    answer = 0\n",
    "    mid = 0\n",
    "    while low < high:\n",
    "        mid = (low + high) // 2\n",
    "        sum = 0\n",
    "        for t in times:\n",
    "            sum += (mid // t)\n",
    "\n",
    "        if sum < n:\n",
    "            low = mid + 1\n",
    "        if sum >= n:\n",
    "            high = mid\n",
    "            answer = mid\n",
    "\n",
    "    return answer"
   ]
  },
  {
   "cell_type": "code",
   "execution_count": 31,
   "id": "5dc3221f-85bd-448d-a833-207aa52ad8c8",
   "metadata": {},
   "outputs": [],
   "source": [
    "def solution(n, times): \n",
    "    # 같은 Time 이란 시간 자원을 어떻게 분배하느냐를 binary_search 를 사용해 진행함\n",
    "    # 1. binary_search 는 결국, 우리가 가리키는 mid 값이 원하는 값이랑 일치하느냐가 목적\n",
    "    \n",
    "    # 시간에 맞추어 len(times) 만큼의 심사위원들로 n 명의\n",
    "    low = 0\n",
    "    high = max(times) * n  # 이게 맞지, times 가 정렬되어있다는 내용은 없으니까.\n",
    "    answer = 0\n",
    "    \n",
    "    while low < high:\n",
    "        mid = (low + high) // 2\n",
    "        sum = 0\n",
    "        for t in times:\n",
    "            sum += (mid // t)\n",
    "            print(low, mid, high, '|', t, sum)\n",
    "\n",
    "        if sum < n:\n",
    "            low = mid + 1\n",
    "        if sum >= n: # sum == n : 우리가 원하는 결과, low >= high 될때까지 계속 진행.\n",
    "            high = mid\n",
    "\n",
    "    return low"
   ]
  },
  {
   "cell_type": "code",
   "execution_count": 5,
   "id": "a6518184-4c0c-4484-a270-0ede5b27e427",
   "metadata": {},
   "outputs": [],
   "source": [
    "def solution(n, times):\n",
    "    answer = 0\n",
    "    start, end, mid = 1, times[-1] * n, 0\n",
    "    print(end)\n",
    "\n",
    "    while start < end:\n",
    "        mid = (start + end) // 2\n",
    "        total = 0 # 총 걸리는 시간\n",
    "        for time in times:\n",
    "            total += mid // time\n",
    "\n",
    "        if total >= n:\n",
    "            end = mid\n",
    "        else:\n",
    "            start = mid + 1\n",
    "            \n",
    "    answer = start\n",
    "    \n",
    "    return answer"
   ]
  },
  {
   "cell_type": "code",
   "execution_count": 32,
   "id": "6923a1ce-c33d-4396-a393-e5d9260cfd1e",
   "metadata": {},
   "outputs": [
    {
     "name": "stdout",
     "output_type": "stream",
     "text": [
      "0 30 60 | 7 4\n",
      "0 30 60 | 10 7\n",
      "0 15 30 | 7 2\n",
      "0 15 30 | 10 3\n",
      "16 23 30 | 7 3\n",
      "16 23 30 | 10 5\n",
      "24 27 30 | 7 3\n",
      "24 27 30 | 10 5\n",
      "28 29 30 | 7 4\n",
      "28 29 30 | 10 6\n",
      "28 28 29 | 7 4\n",
      "28 28 29 | 10 6\n"
     ]
    },
    {
     "data": {
      "text/plain": [
       "28"
      ]
     },
     "execution_count": 32,
     "metadata": {},
     "output_type": "execute_result"
    }
   ],
   "source": [
    "n = 6\n",
    "times = [3, 7, 10]\n",
    "times = [7, 10]\n",
    "# times = [10, 7, 3]\n",
    "\n",
    "solution(n, times)"
   ]
  },
  {
   "cell_type": "code",
   "execution_count": 10,
   "id": "63e53e4c-bced-412e-987f-bdd238feddc3",
   "metadata": {},
   "outputs": [],
   "source": [
    "def count(period, times):\n",
    "    cnt = 0\n",
    "    for time in times:\n",
    "        cnt += period // time\n",
    "    return cnt\n",
    "\n",
    "def solution(n, times):\n",
    "    '''\n",
    "    n, times, answer = 6, [7, 10], 28\n",
    "    answer = 28 = 16+8+4 = 11100(2)\n",
    "\n",
    "    n = 6\n",
    "    t = 0(2)\n",
    "    # Find the smallest integer t that makes cnt >= n. That means t == answer.\n",
    "    i = 5:\n",
    "        temp = 100000(2) i.e. temp = 32\n",
    "        cnt = 7 >= n\n",
    "\n",
    "        # Check temp is the smallest integer that makes cnt >= n\n",
    "        temp_minus1 = temp - 1 = 31:\n",
    "        cnt_temp_minus1 = 7 >= n    # temp > answer\n",
    "        -> Pass\n",
    "\n",
    "    i = 4:\n",
    "        temp = 10000(2) i.e. temp = 16\n",
    "        cnt = 3 < n\n",
    "        t += temp i.e. t = 10000(2)\n",
    "\n",
    "    i = 3:\n",
    "        temp = t + 1000(2) = 11000(2) i.e. temp = 24\n",
    "        cnt = 5 < n\n",
    "\n",
    "    i = 2:\n",
    "        temp = t + 100(2) = 11100(2) i.e. temp = 28\n",
    "        cnt = 6 >= n\n",
    "\n",
    "        # Check temp is the smallest integer that makes cnt >= n\n",
    "        temp_minus1 = temp - 1 = 27:\n",
    "        cnt_temp_minus1 = 5 < n    # temp == answer\n",
    "        -> return temp\n",
    "    '''\n",
    "    digit = 50\n",
    "    t = 0\n",
    "    for i in range(digit, -1, -1):\n",
    "        temp  = t + 2**i\n",
    "        cnt = count(temp, times)\n",
    "        if cnt >= n:\n",
    "            if count(temp-1, times) < n:\n",
    "                return temp\n",
    "        else:\n",
    "            t = temp"
   ]
  },
  {
   "cell_type": "code",
   "execution_count": null,
   "id": "305e66ea-4906-4f7b-a08d-f994dda93203",
   "metadata": {},
   "outputs": [],
   "source": []
  }
 ],
 "metadata": {
  "kernelspec": {
   "display_name": "Python 3 (ipykernel)",
   "language": "python",
   "name": "python3"
  },
  "language_info": {
   "codemirror_mode": {
    "name": "ipython",
    "version": 3
   },
   "file_extension": ".py",
   "mimetype": "text/x-python",
   "name": "python",
   "nbconvert_exporter": "python",
   "pygments_lexer": "ipython3",
   "version": "3.8.10"
  }
 },
 "nbformat": 4,
 "nbformat_minor": 5
}
