{
 "cells": [
  {
   "cell_type": "code",
   "execution_count": null,
   "id": "152b1a0c-8172-460e-9c85-c8c3642a553a",
   "metadata": {},
   "outputs": [],
   "source": [
    "# https://school.programmers.co.kr/learn/courses/30/lessons/42747"
   ]
  },
  {
   "cell_type": "code",
   "execution_count": 23,
   "id": "73c76133-8727-4fa1-99a9-8e745141a7ce",
   "metadata": {},
   "outputs": [],
   "source": [
    "import numpy as np\n",
    "\n",
    "def solution(citations):\n",
    "    # answer = 0\n",
    "    for x in range(len(citations), 0, -1):\n",
    "        if np.sum(np.array(citations) >= x) >= x:\n",
    "            return x"
   ]
  },
  {
   "cell_type": "code",
   "execution_count": 22,
   "id": "b301f8e5-8b1d-4d94-b6ef-7572c58378a7",
   "metadata": {},
   "outputs": [],
   "source": [
    "def solution2(citations):\n",
    "    citations.sort(reverse=True)\n",
    "    answer = max(map(min, enumerate(citations, start=1)))  # 이해하기 너무 난해함\n",
    "    return answer"
   ]
  },
  {
   "cell_type": "code",
   "execution_count": null,
   "id": "68fbef95-04cd-471a-8920-7c1aaf3b49ca",
   "metadata": {},
   "outputs": [],
   "source": [
    "def solution3(citations):\n",
    "    citations = sorted(citations)\n",
    "    l = len(citations)\n",
    "    for i in range(l):\n",
    "        if citations[i] >= l-i:\n",
    "            return l-i\n",
    "    return 0"
   ]
  },
  {
   "cell_type": "code",
   "execution_count": 17,
   "id": "bf57fa83-a55c-4c32-b879-ab327a852309",
   "metadata": {},
   "outputs": [
    {
     "name": "stdout",
     "output_type": "stream",
     "text": [
      "[6, 5, 3, 1, 0]\n",
      "[(1, 6), (2, 5), (3, 3), (4, 1), (5, 0)]\n",
      "[1, 2, 3, 1, 0]\n"
     ]
    }
   ],
   "source": [
    "citations.sort(reverse=True)\n",
    "print(citations)\n",
    "print(list(enumerate(citations, start=1)))\n",
    "print(list(map(min, enumerate(citations, start=1))))"
   ]
  },
  {
   "cell_type": "code",
   "execution_count": 21,
   "id": "992df98c-f1b7-4793-973b-63a9854cce04",
   "metadata": {},
   "outputs": [
    {
     "data": {
      "text/plain": [
       "3"
      ]
     },
     "execution_count": 21,
     "metadata": {},
     "output_type": "execute_result"
    }
   ],
   "source": [
    "citations = [4, 0, 6, 1, 5]\n",
    "\n",
    "solution(citations)"
   ]
  },
  {
   "cell_type": "code",
   "execution_count": null,
   "id": "9dc1b47d-5895-40b1-b265-255fe79d3d59",
   "metadata": {},
   "outputs": [],
   "source": []
  }
 ],
 "metadata": {
  "kernelspec": {
   "display_name": "Python 3 (ipykernel)",
   "language": "python",
   "name": "python3"
  },
  "language_info": {
   "codemirror_mode": {
    "name": "ipython",
    "version": 3
   },
   "file_extension": ".py",
   "mimetype": "text/x-python",
   "name": "python",
   "nbconvert_exporter": "python",
   "pygments_lexer": "ipython3",
   "version": "3.8.10"
  }
 },
 "nbformat": 4,
 "nbformat_minor": 5
}
