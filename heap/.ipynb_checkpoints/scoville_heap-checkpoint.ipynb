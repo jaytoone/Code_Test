{
 "cells": [
  {
   "cell_type": "code",
   "execution_count": 1,
   "id": "170e1930-bb16-4c44-becf-f77bc3c0e34b",
   "metadata": {},
   "outputs": [],
   "source": [
    "# https://school.programmers.co.kr/learn/courses/30/lessons/42626"
   ]
  },
  {
   "cell_type": "code",
   "execution_count": 5,
   "id": "32ac5b5c-04d6-434f-9e0e-a80551d338ca",
   "metadata": {},
   "outputs": [],
   "source": [
    "import heapq as hq\n",
    "\n",
    "def solution(scoville, K):\n",
    "\n",
    "    hq.heapify(scoville)\n",
    "    answer = 0\n",
    "    while True:\n",
    "        first = hq.heappop(scoville)\n",
    "        if first >= K:\n",
    "            break\n",
    "        if len(scoville) == 0:\n",
    "            return -1\n",
    "        second = hq.heappop(scoville)\n",
    "        hq.heappush(scoville, first + second*2)\n",
    "        answer += 1  \n",
    "\n",
    "    return answer"
   ]
  },
  {
   "cell_type": "code",
   "execution_count": 6,
   "id": "96899f12-577e-41b4-83a9-d2c519963b3d",
   "metadata": {},
   "outputs": [
    {
     "data": {
      "text/plain": [
       "2"
      ]
     },
     "execution_count": 6,
     "metadata": {},
     "output_type": "execute_result"
    }
   ],
   "source": [
    "scoville = [1, 2, 3, 9, 10, 12]\n",
    "K = 7\n",
    "\n",
    "solution(scoville, K)"
   ]
  },
  {
   "cell_type": "code",
   "execution_count": null,
   "id": "25b84356-d781-4fb1-a0fc-9ae9e190ad59",
   "metadata": {},
   "outputs": [],
   "source": [
    "# heappop 이 가장 큰 수를 출력하는 경우는 ? => https://hellominchan.tistory.com/231\n",
    "# - 또는 (-index, value) tuple 을 활용"
   ]
  }
 ],
 "metadata": {
  "kernelspec": {
   "display_name": "Python 3 (ipykernel)",
   "language": "python",
   "name": "python3"
  },
  "language_info": {
   "codemirror_mode": {
    "name": "ipython",
    "version": 3
   },
   "file_extension": ".py",
   "mimetype": "text/x-python",
   "name": "python",
   "nbconvert_exporter": "python",
   "pygments_lexer": "ipython3",
   "version": "3.8.10"
  }
 },
 "nbformat": 4,
 "nbformat_minor": 5
}
