{
 "cells": [
  {
   "cell_type": "code",
   "execution_count": 35,
   "id": "b8c9b9d2-eddf-4904-b025-37eedef3043f",
   "metadata": {},
   "outputs": [],
   "source": [
    "# https://school.programmers.co.kr/learn/courses/30/lessons/43163\n",
    "\n",
    "def solution(begin, target, words):\n",
    "    answer = 0\n",
    "    Q = [begin]\n",
    "\n",
    "    while True:\n",
    "        temp_Q = []\n",
    "        for word_1 in Q: # 시작 경우의 수, 첫 시작은 [begin] 으로 진행\n",
    "            if word_1 == target:\n",
    "                    return answer\n",
    "            print(word_1, end=' ')\n",
    "            for i in range(len(words)-1, -1, -1):  # pop 되는 words 를 감당하기 위해서는 뒤에서부터 indexing \n",
    "            # for i in range(len(words)-1):\n",
    "                word_2 = words[i]\n",
    "                # print([(x, y) for x, y in zip(word_1, word_2)])\n",
    "                if sum([x!=y for x, y in zip(word_1, word_2)]) == 1:  # 연결 유효성 검증, 문자가 1개만 다른 경우 변경이 가능함\n",
    "                    temp_Q.append(words.pop(i)) # words 가 변경됨, 사용한 words 는 반복 사용하지 않음, 최소 사용을 위해\n",
    "                    # temp_Q.append(word_2) # words 가 변경됨, 사용한 words 는 반복 사용하지 않음, 최소 사용을 위해\n",
    "                    # 사용한 단어를 제거하지 않으면 루프에 갖힐 수 있음\n",
    "                    print(temp_Q, words)\n",
    "\n",
    "        if not temp_Q: # temp_Q 가 남지 않았으면,\n",
    "            return 0\n",
    "        else:\n",
    "            Q = temp_Q\n",
    "            answer += 1\n",
    "            print()"
   ]
  },
  {
   "cell_type": "code",
   "execution_count": 36,
   "id": "271218f5-74f8-4a8b-9967-f196399f3998",
   "metadata": {},
   "outputs": [
    {
     "name": "stdout",
     "output_type": "stream",
     "text": [
      "hit ['hot'] ['hot', 'dot', 'dog', 'lot', 'log', 'cog']\n",
      "\n",
      "hot ['lot'] ['hot', 'dot', 'dog', 'lot', 'log', 'cog']\n",
      "['lot', 'dot'] ['hot', 'dot', 'dog', 'lot', 'log', 'cog']\n",
      "\n",
      "lot ['log'] ['hot', 'dot', 'dog', 'lot', 'log', 'cog']\n",
      "['log', 'dot'] ['hot', 'dot', 'dog', 'lot', 'log', 'cog']\n",
      "['log', 'dot', 'hot'] ['hot', 'dot', 'dog', 'lot', 'log', 'cog']\n",
      "dot ['log', 'dot', 'hot', 'lot'] ['hot', 'dot', 'dog', 'lot', 'log', 'cog']\n",
      "['log', 'dot', 'hot', 'lot', 'dog'] ['hot', 'dot', 'dog', 'lot', 'log', 'cog']\n",
      "['log', 'dot', 'hot', 'lot', 'dog', 'hot'] ['hot', 'dot', 'dog', 'lot', 'log', 'cog']\n",
      "\n",
      "log ['cog'] ['hot', 'dot', 'dog', 'lot', 'log', 'cog']\n",
      "['cog', 'lot'] ['hot', 'dot', 'dog', 'lot', 'log', 'cog']\n",
      "['cog', 'lot', 'dog'] ['hot', 'dot', 'dog', 'lot', 'log', 'cog']\n",
      "dot ['cog', 'lot', 'dog', 'lot'] ['hot', 'dot', 'dog', 'lot', 'log', 'cog']\n",
      "['cog', 'lot', 'dog', 'lot', 'dog'] ['hot', 'dot', 'dog', 'lot', 'log', 'cog']\n",
      "['cog', 'lot', 'dog', 'lot', 'dog', 'hot'] ['hot', 'dot', 'dog', 'lot', 'log', 'cog']\n",
      "hot ['cog', 'lot', 'dog', 'lot', 'dog', 'hot', 'lot'] ['hot', 'dot', 'dog', 'lot', 'log', 'cog']\n",
      "['cog', 'lot', 'dog', 'lot', 'dog', 'hot', 'lot', 'dot'] ['hot', 'dot', 'dog', 'lot', 'log', 'cog']\n",
      "lot ['cog', 'lot', 'dog', 'lot', 'dog', 'hot', 'lot', 'dot', 'log'] ['hot', 'dot', 'dog', 'lot', 'log', 'cog']\n",
      "['cog', 'lot', 'dog', 'lot', 'dog', 'hot', 'lot', 'dot', 'log', 'dot'] ['hot', 'dot', 'dog', 'lot', 'log', 'cog']\n",
      "['cog', 'lot', 'dog', 'lot', 'dog', 'hot', 'lot', 'dot', 'log', 'dot', 'hot'] ['hot', 'dot', 'dog', 'lot', 'log', 'cog']\n",
      "dog ['cog', 'lot', 'dog', 'lot', 'dog', 'hot', 'lot', 'dot', 'log', 'dot', 'hot', 'cog'] ['hot', 'dot', 'dog', 'lot', 'log', 'cog']\n",
      "['cog', 'lot', 'dog', 'lot', 'dog', 'hot', 'lot', 'dot', 'log', 'dot', 'hot', 'cog', 'log'] ['hot', 'dot', 'dog', 'lot', 'log', 'cog']\n",
      "['cog', 'lot', 'dog', 'lot', 'dog', 'hot', 'lot', 'dot', 'log', 'dot', 'hot', 'cog', 'log', 'dot'] ['hot', 'dot', 'dog', 'lot', 'log', 'cog']\n",
      "hot ['cog', 'lot', 'dog', 'lot', 'dog', 'hot', 'lot', 'dot', 'log', 'dot', 'hot', 'cog', 'log', 'dot', 'lot'] ['hot', 'dot', 'dog', 'lot', 'log', 'cog']\n",
      "['cog', 'lot', 'dog', 'lot', 'dog', 'hot', 'lot', 'dot', 'log', 'dot', 'hot', 'cog', 'log', 'dot', 'lot', 'dot'] ['hot', 'dot', 'dog', 'lot', 'log', 'cog']\n",
      "\n"
     ]
    },
    {
     "data": {
      "text/plain": [
       "4"
      ]
     },
     "execution_count": 36,
     "metadata": {},
     "output_type": "execute_result"
    }
   ],
   "source": [
    "begin = 'hit'\n",
    "target = 'cog'\n",
    "words = [\"hot\", \"dot\", \"dog\", \"lot\", \"log\", \"cog\"]\n",
    "\n",
    "solution(begin, target, words)"
   ]
  },
  {
   "cell_type": "code",
   "execution_count": null,
   "id": "6bc60ec8-81a3-4b61-882e-f07592633650",
   "metadata": {},
   "outputs": [],
   "source": []
  }
 ],
 "metadata": {
  "kernelspec": {
   "display_name": "Python 3 (ipykernel)",
   "language": "python",
   "name": "python3"
  },
  "language_info": {
   "codemirror_mode": {
    "name": "ipython",
    "version": 3
   },
   "file_extension": ".py",
   "mimetype": "text/x-python",
   "name": "python",
   "nbconvert_exporter": "python",
   "pygments_lexer": "ipython3",
   "version": "3.8.13"
  }
 },
 "nbformat": 4,
 "nbformat_minor": 5
}
