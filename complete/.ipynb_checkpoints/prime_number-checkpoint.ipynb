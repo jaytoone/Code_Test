{
 "cells": [
  {
   "cell_type": "code",
   "execution_count": 32,
   "id": "69f306e0-d405-45b4-bdb8-2d30752a7c7f",
   "metadata": {},
   "outputs": [],
   "source": [
    "# https://school.programmers.co.kr/learn/courses/30/lessons/42839\n",
    "\n",
    "primeSet = set()\n",
    "\n",
    "\n",
    "def isPrime(number):\n",
    "    if number in (0, 1):\n",
    "        return False\n",
    "    for i in range(2, number): # 소수의 정의 : 1 과 자기수 이외의 수를 약수로 갖지 않는 수\n",
    "        if number % i == 0:\n",
    "            return False\n",
    "\n",
    "    return True\n",
    "\n",
    "\n",
    "def makeCombinations(str1, str2):\n",
    "    if str1 != \"\":\n",
    "        if isPrime(int(str1)):\n",
    "            # primeSet.add(int(str1))\n",
    "            primeSet.add(str1)\n",
    "\n",
    "    for i in range(len(str2)):\n",
    "        # print(str1, str2)\n",
    "        print(i, \":\", str1, \",\", str2[i], \"|\", str2[:i], \",\", str2[i + 1:])\n",
    "        \n",
    "         # primeSet 검증역과 재료역을 구분해서 재귀로 돌리는 아이디어가 훌륭한 부분\n",
    "        makeCombinations(str1 + str2[i], str2[:i] + str2[i + 1:])\n",
    "\n",
    "def solution(numbers):\n",
    "    makeCombinations(\"\", numbers)\n",
    "\n",
    "    answer = len(primeSet)\n",
    "    print(primeSet)\n",
    "\n",
    "    return answer"
   ]
  },
  {
   "cell_type": "code",
   "execution_count": 33,
   "id": "e8baad08-4a09-4af1-9b91-fd66fc498869",
   "metadata": {},
   "outputs": [
    {
     "data": {
      "text/plain": [
       "('3', '17', '')"
      ]
     },
     "execution_count": 33,
     "metadata": {},
     "output_type": "execute_result"
    }
   ],
   "source": [
    "i = 2\n",
    "str2 = numbers \n",
    "str2[i], str2[:i], str2[i + 1:]"
   ]
  },
  {
   "cell_type": "code",
   "execution_count": 34,
   "id": "94bf5abb-9cd8-48d6-b205-209bfccaafe4",
   "metadata": {},
   "outputs": [
    {
     "name": "stdout",
     "output_type": "stream",
     "text": [
      "0 :  , 1 |  , 73\n",
      "0 : 1 , 7 |  , 3\n",
      "0 : 17 , 3 |  , \n",
      "1 : 1 , 3 | 7 , \n",
      "0 : 13 , 7 |  , \n",
      "1 :  , 7 | 1 , 3\n",
      "0 : 7 , 1 |  , 3\n",
      "0 : 71 , 3 |  , \n",
      "1 : 7 , 3 | 1 , \n",
      "0 : 73 , 1 |  , \n",
      "2 :  , 3 | 17 , \n",
      "0 : 3 , 1 |  , 7\n",
      "0 : 31 , 7 |  , \n",
      "1 : 3 , 7 | 1 , \n",
      "0 : 37 , 1 |  , \n",
      "{'7', '13', '137', '17', '71', '173', '73', '317', '31', '37', '3'}\n"
     ]
    },
    {
     "data": {
      "text/plain": [
       "11"
      ]
     },
     "execution_count": 34,
     "metadata": {},
     "output_type": "execute_result"
    }
   ],
   "source": [
    "numbers = \"173\"\n",
    "\n",
    "solution(numbers)"
   ]
  },
  {
   "cell_type": "code",
   "execution_count": 17,
   "id": "646827bc-8722-4d8f-838b-445fda4420da",
   "metadata": {},
   "outputs": [],
   "source": [
    "# permutation using recursive function\n",
    "\n",
    "input_list = [1,2,3,4,5]\n",
    "used = [0] * len(input_list)\n",
    "\n",
    "# print(used)\n",
    "\n",
    "def perm(arr, n):\n",
    "    if n == len(input_list):  # 재귀의 종료 시점을 의미함, => len(input_list) - n = 순열 선택 인자수\n",
    "        # print(input_list)\n",
    "        print(arr)\n",
    "        return\n",
    "    for i in range(len(input_list)):\n",
    "        if not used[i]:\n",
    "            used[i] = 1\n",
    "            arr.append(input_list[i])\n",
    "            perm(arr, n + 1)\n",
    "            arr.pop()\n",
    "            used[i] = 0\n",
    "\n"
   ]
  },
  {
   "cell_type": "code",
   "execution_count": null,
   "id": "96a813fe-ec13-4672-a713-32c575f92f46",
   "metadata": {},
   "outputs": [],
   "source": [
    "perm([], 1)"
   ]
  },
  {
   "cell_type": "code",
   "execution_count": 51,
   "id": "f3d0fbdb-8937-477c-b174-4a0a78cd9e6c",
   "metadata": {},
   "outputs": [
    {
     "name": "stdout",
     "output_type": "stream",
     "text": [
      "[('1',), ('7',)]\n",
      "[('1', '7'), ('7', '1')]\n"
     ]
    }
   ],
   "source": [
    "# numbers[:1]\n",
    "from itertools import permutations\n",
    "\n",
    "for n in range(len(numbers)):\n",
    "    print(list(permutations(numbers, n + 1)))"
   ]
  },
  {
   "cell_type": "code",
   "execution_count": null,
   "id": "5ad88a30-45e4-40ad-b112-1895439a18b1",
   "metadata": {},
   "outputs": [],
   "source": [
    "from itertools import permutations\n",
    "from collections import defaultdict\n",
    "\n",
    "def is_prime(n):\n",
    "    return all([(n%j) for j in range(2, int(n**0.5)+1)]) and n>1\n",
    "\n",
    "def solution(numbers):\n",
    "    count = 0\n",
    "    history = []\n",
    "    for n in range(len(numbers)):\n",
    "        for digit_arr in permutations(numbers, n+1):\n",
    "            number = 0\n",
    "\n",
    "            for i, digit in enumerate(digit_arr):\n",
    "                b = len(digit_arr) - i - 1\n",
    "                number += int(digit) * (1*(10**b))\n",
    "\n",
    "            if number not in history and is_prime(number):\n",
    "                history.append(number)\n",
    "                count+=1\n",
    "\n",
    "    return count"
   ]
  }
 ],
 "metadata": {
  "kernelspec": {
   "display_name": "Python 3 (ipykernel)",
   "language": "python",
   "name": "python3"
  },
  "language_info": {
   "codemirror_mode": {
    "name": "ipython",
    "version": 3
   },
   "file_extension": ".py",
   "mimetype": "text/x-python",
   "name": "python",
   "nbconvert_exporter": "python",
   "pygments_lexer": "ipython3",
   "version": "3.8.10"
  }
 },
 "nbformat": 4,
 "nbformat_minor": 5
}
