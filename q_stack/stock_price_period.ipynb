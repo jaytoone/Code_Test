{
 "cells": [
  {
   "cell_type": "code",
   "execution_count": 1,
   "id": "3faa5aad-0227-4c25-a9df-348f2f34cd0c",
   "metadata": {},
   "outputs": [],
   "source": [
    "# https://school.programmers.co.kr/learn/courses/30/lessons/42584"
   ]
  },
  {
   "cell_type": "code",
   "execution_count": null,
   "id": "36ddaf1f-a82b-47bf-a47b-9e8377455469",
   "metadata": {},
   "outputs": [],
   "source": [
    "# 쉽게는 해당 index i - 뒤로 나머지 index 중 np.where(prices[i] < prices[i:])"
   ]
  },
  {
   "cell_type": "code",
   "execution_count": 14,
   "id": "994147a6-c96e-4e1c-8574-ffa0f4e51196",
   "metadata": {},
   "outputs": [],
   "source": [
    "from collections import deque\n",
    "def solution_deque(prices):  # 확실히, queue loop 가 더 빠름\n",
    "    answer = []\n",
    "    prices = deque(prices)\n",
    "    while prices:\n",
    "        c = prices.popleft()\n",
    "\n",
    "        count = 0\n",
    "        for i in prices:\n",
    "            if c > i:\n",
    "                count += 1\n",
    "                break\n",
    "            count += 1\n",
    "\n",
    "        answer.append(count)\n",
    "\n",
    "    return answer"
   ]
  },
  {
   "cell_type": "code",
   "execution_count": 22,
   "id": "d32b37b6-d9e1-4dc8-a4fb-b953961a7be7",
   "metadata": {},
   "outputs": [],
   "source": [
    "# 본 for loop 경우 단순하지만 시간 복잡도 면에서 효율성이 떨어지지 않을까 염려됨.\n",
    "def solution_for(prices):\n",
    "    answer = [0] * len(prices)\n",
    "    for i in range(len(prices)):\n",
    "        for j in range(i+1, len(prices)):\n",
    "            if prices[i] <= prices[j]:\n",
    "                answer[i] += 1\n",
    "            else:\n",
    "                answer[i] += 1\n",
    "                break\n",
    "    return answer"
   ]
  },
  {
   "cell_type": "code",
   "execution_count": 29,
   "id": "c81107b4-70a1-4d34-88e4-1baac38c65c4",
   "metadata": {},
   "outputs": [
    {
     "name": "stdout",
     "output_type": "stream",
     "text": [
      "2.62 µs ± 26.1 ns per loop (mean ± std. dev. of 10 runs, 500 loops each)\n",
      "5.22 µs ± 214 ns per loop (mean ± std. dev. of 10 runs, 500 loops each)\n"
     ]
    }
   ],
   "source": [
    "import numpy as np\n",
    "\n",
    "prices = [1, 2, 3, 2, 3]\n",
    "prices = np.random.randint(0, 100, 10^5)\n",
    "\n",
    "%timeit -n 500 -r 10 solution_deque(prices)\n",
    "%timeit -n 500 -r 10 solution_for(prices)"
   ]
  },
  {
   "cell_type": "code",
   "execution_count": 4,
   "id": "bab121ea-914d-49d6-a08d-43ba11bed2ff",
   "metadata": {},
   "outputs": [
    {
     "data": {
      "text/plain": [
       "[4, 3, 1, 1, 0]"
      ]
     },
     "execution_count": 4,
     "metadata": {},
     "output_type": "execute_result"
    }
   ],
   "source": [
    "prices = [1, 2, 3, 2, 3]\n",
    "solution(prices)"
   ]
  },
  {
   "cell_type": "code",
   "execution_count": null,
   "id": "06c06c8e-fdc9-4aa6-972f-25271da7623b",
   "metadata": {},
   "outputs": [],
   "source": []
  }
 ],
 "metadata": {
  "kernelspec": {
   "display_name": "Python 3 (ipykernel)",
   "language": "python",
   "name": "python3"
  },
  "language_info": {
   "codemirror_mode": {
    "name": "ipython",
    "version": 3
   },
   "file_extension": ".py",
   "mimetype": "text/x-python",
   "name": "python",
   "nbconvert_exporter": "python",
   "pygments_lexer": "ipython3",
   "version": "3.8.10"
  }
 },
 "nbformat": 4,
 "nbformat_minor": 5
}
