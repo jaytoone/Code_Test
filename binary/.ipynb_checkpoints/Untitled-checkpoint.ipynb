{
 "cells": [
  {
   "cell_type": "code",
   "execution_count": 2,
   "id": "a887527e-9679-4f8f-98ba-a40ed3150355",
   "metadata": {},
   "outputs": [],
   "source": [
    "# https://school.programmers.co.kr/learn/courses/30/lessons/43236"
   ]
  },
  {
   "cell_type": "code",
   "execution_count": 7,
   "id": "971ae40a-1c0b-42b8-8c46-db93ca999a9d",
   "metadata": {},
   "outputs": [],
   "source": [
    "def solution(distance, rocks, n):\n",
    "    if len(rocks) == n:\n",
    "        return distance\n",
    "\n",
    "    rocks.sort()\n",
    "    rocks.append(distance)\n",
    "    Min = 0\n",
    "    Max = rocks[-1]\n",
    "\n",
    "    while Max > (Min + 1):\n",
    "        Mid = (Max + Min) // 2\n",
    "        prev = 0\n",
    "        count = 0\n",
    "\n",
    "        for rock in rocks:\n",
    "            if rock - prev < Mid\n",
    "                count += 1\n",
    "            else: \n",
    "                prev = rock\n",
    "\n",
    "        if count > n:\n",
    "            Max = Mid\n",
    "        else:\n",
    "            Min = Mid\n",
    "            \n",
    "    answer = Min\n",
    "    return answer"
   ]
  },
  {
   "cell_type": "code",
   "execution_count": 5,
   "id": "29471e47-7988-4329-aa15-3259fb1e1452",
   "metadata": {},
   "outputs": [],
   "source": [
    "def solution(distance, rocks, n):\n",
    "    answer = 0\n",
    "    sorted_rocks = sorted(rocks)\n",
    "    sorted_rocks.append(distance)\n",
    "    left = 0\n",
    "    right = distance\n",
    "    while (left <= right):\n",
    "        mid = int((left + right) / 2)\n",
    "        cnt = 0\n",
    "        p = 0\n",
    "        for i in range(len(sorted_rocks)):\n",
    "            if (sorted_rocks[i] - p < mid):\n",
    "                cnt += 1\n",
    "            else:\n",
    "                p = sorted_rocks[i]\n",
    "        if cnt > n:\n",
    "            right = mid - 1\n",
    "        else:\n",
    "            left = mid + 1\n",
    "            answer = mid\n",
    "            \n",
    "    return answer"
   ]
  },
  {
   "cell_type": "code",
   "execution_count": 8,
   "id": "d8f2613b-fcc2-43e9-8826-80e535c562f7",
   "metadata": {},
   "outputs": [
    {
     "data": {
      "text/plain": [
       "4"
      ]
     },
     "execution_count": 8,
     "metadata": {},
     "output_type": "execute_result"
    }
   ],
   "source": [
    "distance = 25\n",
    "rocks = [2, 14, 11, 21, 17]\n",
    "n = 2\n",
    "\n",
    "solution(distance, rocks, n)"
   ]
  },
  {
   "cell_type": "code",
   "execution_count": null,
   "id": "3f77bc14-a39c-4530-8a46-e1e481e5b133",
   "metadata": {},
   "outputs": [],
   "source": []
  }
 ],
 "metadata": {
  "kernelspec": {
   "display_name": "Python 3 (ipykernel)",
   "language": "python",
   "name": "python3"
  },
  "language_info": {
   "codemirror_mode": {
    "name": "ipython",
    "version": 3
   },
   "file_extension": ".py",
   "mimetype": "text/x-python",
   "name": "python",
   "nbconvert_exporter": "python",
   "pygments_lexer": "ipython3",
   "version": "3.8.10"
  }
 },
 "nbformat": 4,
 "nbformat_minor": 5
}
