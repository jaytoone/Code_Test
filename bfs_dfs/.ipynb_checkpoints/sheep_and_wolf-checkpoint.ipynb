{
 "cells": [
  {
   "cell_type": "code",
   "execution_count": null,
   "id": "45d3aa80-dd76-4f24-ad8a-baf3d179ab36",
   "metadata": {},
   "outputs": [],
   "source": [
    "# tree\n",
    "visited"
   ]
  },
  {
   "cell_type": "code",
   "execution_count": 73,
   "id": "3766f1dd-4a68-4170-8ffd-6d97e1c481f0",
   "metadata": {},
   "outputs": [],
   "source": [
    "# https://school.programmers.co.kr/learn/courses/30/lessons/92343\n",
    "\n",
    "max_sheep_cnt = 0\n",
    "temp_value = 30  # 넉넉하게\n",
    "visited_node = [False] * temp_value # node number 로 indexing 함\n",
    "tree = [[] for _ in range(temp_value)]\n",
    "\n",
    "\n",
    "def move(sheep, wolf, next_node, info):\n",
    "    global max_sheep_cnt\n",
    "\n",
    "    max_sheep_cnt = max(sheep, max_sheep_cnt)\n",
    "\n",
    "    if sheep <= wolf:\n",
    "        return\n",
    "    \n",
    "    print(next_node)\n",
    "\n",
    "    for i in next_node:\n",
    "        # if visited[i]:\n",
    "        #     continue\n",
    "            \n",
    "        if not visited_node[i]:\n",
    "            visited_node[i] = True\n",
    "\n",
    "            if info[i]:  # 늑대면 늑대 갯수 + 1\n",
    "                # next_node 는 갈 수 있는 방향을 의미, 이전 node 로도 움직일 수 있으니 누적하는 게 맞음\n",
    "                # print(tree[i])\n",
    "                move(sheep, wolf + 1, next_node + tree[i], info)\n",
    "            else:  # 양이면 양 갯수 + 1\n",
    "                # print(tree[i])\n",
    "                move(sheep + 1, wolf, next_node + tree[i], info)\n",
    "\n",
    "            visited_node[i] = False # <-- 이것의 의미는 ? 이전 노드로 되돌아올 수 있게 해야함\n",
    "\n",
    "\n",
    "def solution(info, edges):\n",
    "    global max_sheep_cnt\n",
    "    \n",
    "    for i, j in edges: # edges 정보로 tree 를 먼저 만들어줌\n",
    "        tree[i].append(j)\n",
    "        \n",
    "    move(1, 0, tree[0], info) # 여기서 1, 0 은 모은 양 / 늑대의 개수를 의미함\n",
    "\n",
    "    return max_sheep_cnt\n"
   ]
  },
  {
   "cell_type": "code",
   "execution_count": 74,
   "id": "1e171178-1a59-4739-b009-13a34bc06b3b",
   "metadata": {},
   "outputs": [
    {
     "name": "stdout",
     "output_type": "stream",
     "text": [
      "[1, 2]\n",
      "[1, 2, 5, 6]\n",
      "[1, 2, 5, 6, 3, 4]\n",
      "[1, 2, 5, 6, 3, 4]\n",
      "[1, 2, 5, 6, 3, 4, 9]\n",
      "[1, 2, 5, 6, 3, 4, 7]\n",
      "[1, 2, 5, 6, 3, 4, 7]\n",
      "[1, 2, 5, 6, 3, 4, 7, 9]\n",
      "[1, 2, 5, 6, 3, 4, 7, 8]\n",
      "[1, 2, 5, 6, 3, 4, 7, 8]\n",
      "[1, 2, 5, 6, 3, 4, 7, 8, 9]\n",
      "[1, 2, 5, 6, 3, 4, 8]\n",
      "[1, 2, 5, 6, 3, 4, 8]\n",
      "[1, 2, 5, 6, 3, 4, 8, 9]\n",
      "[1, 2, 5, 6, 3, 4, 8, 7]\n",
      "[1, 2, 5, 6, 3, 4, 8, 7]\n",
      "[1, 2, 5, 6, 3, 4, 8, 7, 9]\n",
      "[1, 2, 5, 6]\n",
      "[1, 2, 5, 6, 3, 4]\n",
      "[1, 2, 5, 6, 3, 4, 9]\n",
      "[1, 2, 5, 6, 3, 4, 7]\n",
      "[1, 2, 5, 6, 3, 4, 7]\n",
      "[1, 2, 5, 6, 3, 4, 7, 9]\n",
      "[1, 2, 5, 6, 3, 4, 7, 8]\n",
      "[1, 2, 5, 6, 3, 4, 7, 8]\n",
      "[1, 2, 5, 6, 3, 4, 7, 8, 9]\n",
      "[1, 2, 5, 6, 3, 4, 8]\n",
      "[1, 2, 5, 6, 3, 4, 8]\n",
      "[1, 2, 5, 6, 3, 4, 8, 9]\n",
      "[1, 2, 5, 6, 3, 4, 8, 7]\n",
      "[1, 2, 5, 6, 3, 4, 8, 7]\n",
      "[1, 2, 5, 6, 3, 4, 8, 7, 9]\n",
      "[1, 2, 5, 6, 9]\n",
      "[1, 2, 5, 6, 9, 3, 4]\n",
      "[1, 2, 5, 6, 9, 10]\n",
      "[1, 2, 5, 6, 9, 10]\n",
      "[1, 2, 5, 6, 9, 10, 3, 4]\n",
      "[1, 2, 5, 6, 9]\n",
      "[1, 2, 5, 6, 9]\n",
      "[1, 2, 5, 6, 9, 3, 4]\n",
      "[1, 2, 5, 6, 9, 10]\n",
      "[1, 2, 5, 6, 9, 10]\n",
      "[1, 2, 5, 6, 9, 10, 3, 4]\n"
     ]
    },
    {
     "data": {
      "text/plain": [
       "5"
      ]
     },
     "execution_count": 74,
     "metadata": {},
     "output_type": "execute_result"
    }
   ],
   "source": [
    "info = [0,1,0,1,1,0,1,0,0,1,0]\n",
    "edges = [[0,1],[0,2],[1,3],[1,4],[2,5],[2,6],[3,7],[4,8],[6,9],[9,10]]\n",
    "solution(info, edges)"
   ]
  },
  {
   "cell_type": "code",
   "execution_count": 47,
   "id": "5a4ec68d-5c25-4f47-aaf8-993cbc042293",
   "metadata": {},
   "outputs": [],
   "source": [
    "# dfs <-> bfs \n",
    "# https://gmlwjd9405.github.io/2018/08/14/algorithm-dfs.html\n",
    "# 비교 잘됨 : https://veggie-garden.tistory.com/42"
   ]
  },
  {
   "cell_type": "code",
   "execution_count": 10,
   "id": "7335ffc2-bb4d-4df6-ba5f-27fef9a6761d",
   "metadata": {},
   "outputs": [],
   "source": [
    "def dfs(graph, v, visited):\n",
    "    visited[v] = True\n",
    "    print(v, graph[v])\n",
    "    for i in graph[v]:\n",
    "        if not visited[i]:\n",
    "            dfs(graph, i, visited)"
   ]
  },
  {
   "cell_type": "code",
   "execution_count": 13,
   "id": "a722fdf2-0297-44f2-9d4e-bdb35d3405f1",
   "metadata": {},
   "outputs": [
    {
     "name": "stdout",
     "output_type": "stream",
     "text": [
      "1 [2, 3, 8]\n",
      "2 [1, 7]\n",
      "7 [2, 6, 8]\n",
      "6 [7]\n",
      "8 [1, 7]\n",
      "3 [1, 4, 5]\n",
      "4 [3, 5]\n",
      "5 [3, 4]\n"
     ]
    }
   ],
   "source": [
    "graph = [\n",
    "    [],      # 0\n",
    "    [2, 3, 8],  # 1 \n",
    "    [1, 7],  # 2\n",
    "    [1, 4, 5],     # 3\n",
    "    [3, 5],  # 4\n",
    "    [3, 4],  # 5\n",
    "    [7],\n",
    "    [2, 6, 8],  # 6\n",
    "    [1, 7]      # 7\n",
    "]\n",
    "visited = [False] * 9\n",
    "\n",
    "dfs(graph, 1, visited)"
   ]
  },
  {
   "cell_type": "code",
   "execution_count": null,
   "id": "43720c77-4a62-4a6f-8b25-8d22648be3d7",
   "metadata": {},
   "outputs": [],
   "source": []
  }
 ],
 "metadata": {
  "kernelspec": {
   "display_name": "Python 3 (ipykernel)",
   "language": "python",
   "name": "python3"
  },
  "language_info": {
   "codemirror_mode": {
    "name": "ipython",
    "version": 3
   },
   "file_extension": ".py",
   "mimetype": "text/x-python",
   "name": "python",
   "nbconvert_exporter": "python",
   "pygments_lexer": "ipython3",
   "version": "3.8.13"
  }
 },
 "nbformat": 4,
 "nbformat_minor": 5
}
